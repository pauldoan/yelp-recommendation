{
 "cells": [
  {
   "cell_type": "markdown",
   "metadata": {},
   "source": [
    "# Final Project - Personalization Theory"
   ]
  },
  {
   "cell_type": "markdown",
   "metadata": {},
   "source": [
    "Authors: *Bertrand Thia-Thiong-Fat, Jeremy Yao, Paul Doan*"
   ]
  },
  {
   "cell_type": "markdown",
   "metadata": {},
   "source": [
    "# The Objectives"
   ]
  },
  {
   "cell_type": "markdown",
   "metadata": {},
   "source": [
    "**Context**\n",
    "\n",
    "We are placing ourselves in the position of Senior Data Scientists at a company that recommends local businesses. \n",
    "We wish to focus on a particular business objective: predict accurately the latest rating of all active users of the website Yelp. Being able to accurately predict the last rating of a given user allows for a better understanding of their current preferences well. As a result, we can recommend other businesses that the user could potentially be interested in. This explains why we decided to focus on making accurate predictions to understand consumer preferences and drive valuable insights for Yelp's business.\n",
    "\n",
    "We will study different models and compare them to suggest the best available tool for Yelp. Our work attempts at predicting customer ratings accurately and does not address the cold start problem. \n",
    "\n",
    "Our full dataset can be found here: https://www.yelp.com/dataset/challenget\n",
    "\n",
    "In the end, we will decide if the created algorithm can really be used in a real situation for Yelp or if more studies and more data need to be available in order to provide an effective and reliable recommender system."
   ]
  },
  {
   "cell_type": "markdown",
   "metadata": {},
   "source": [
    "**Content**\n",
    "\n",
    "To make the data more tractable, we will proceed to reduction of the size of the datasets and strive to obtain unbiased samples. We will reduce the original data to approximately 500k ratings.\n",
    "As a next step, we will develop 3 different models of recommender systems. We will start with a user-based collaborative filtering model, which will be also act as a baseline for comparison with other models.\n",
    "For instance, we will  create a collective factorization algorithm and develop a deep learning model.\n",
    "\n",
    "We will also conclude our analysis by comparing the different models and methods to recommend relevant local businesses."
   ]
  },
  {
   "cell_type": "markdown",
   "metadata": {},
   "source": [
    "## Table of Content"
   ]
  },
  {
   "cell_type": "markdown",
   "metadata": {},
   "source": [
    "1. Data Preprocessing\n",
    "2. Baseline Model\n",
    "3. Content-based Model\n",
    "4. Deep Learning Model\n",
    "5. Conclusion"
   ]
  }
 ],
 "metadata": {
  "kernelspec": {
   "display_name": "Python 3",
   "language": "python",
   "name": "python3"
  },
  "language_info": {
   "codemirror_mode": {
    "name": "ipython",
    "version": 3
   },
   "file_extension": ".py",
   "mimetype": "text/x-python",
   "name": "python",
   "nbconvert_exporter": "python",
   "pygments_lexer": "ipython3",
   "version": "3.7.3"
  }
 },
 "nbformat": 4,
 "nbformat_minor": 2
}
