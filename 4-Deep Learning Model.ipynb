{
 "cells": [
  {
   "cell_type": "markdown",
   "metadata": {},
   "source": [
    "# Final Project - Personalization Theory"
   ]
  },
  {
   "cell_type": "markdown",
   "metadata": {},
   "source": [
    "Authors: *Bertrand Thia-Thiong-Fat, Jeremy Yao, Paul Doan*"
   ]
  },
  {
   "cell_type": "markdown",
   "metadata": {},
   "source": [
    "# Deep Learning Model"
   ]
  },
  {
   "cell_type": "markdown",
   "metadata": {},
   "source": [
    "In this notebook, we are going to build a deep learning model to predict the last ratings of the users in our dataset. The kind of Neural Network we are going to build is an AutoEncoder. \n",
    "<br>This choice has been made because AutoEncoders are **\"simpler\" models** and yet proved to be **very effective** in many personalization scenarios and competitions. "
   ]
  },
  {
   "cell_type": "markdown",
   "metadata": {},
   "source": [
    "We are going to build two models in particular:\n",
    "* *one simple AutoEncoder*: we will train this model to reconstruct the missing ratings of a user based on the understanding of other ones who have similar preferences.\n",
    "* *one Deep AutoEncoder*: similar to the previous model but with additional layers, we are going to train a Deep AutoEncoder. This model should be able to capture more complex trends and understand the data better than the previous model, making better predictions as a result. "
   ]
  },
  {
   "cell_type": "markdown",
   "metadata": {},
   "source": [
    "Finally, we are also going to investigate two types of dataset that we will describe later in this notebook."
   ]
  },
  {
   "cell_type": "markdown",
   "metadata": {},
   "source": [
    "## Data Preprocessing"
   ]
  },
  {
   "cell_type": "code",
   "execution_count": 1,
   "metadata": {},
   "outputs": [
    {
     "name": "stderr",
     "output_type": "stream",
     "text": [
      "Using TensorFlow backend.\n"
     ]
    }
   ],
   "source": [
    "import pandas as pd\n",
    "import numpy as np\n",
    "%matplotlib inline\n",
    "import matplotlib.pyplot as plt\n",
    "from keras.callbacks import EarlyStopping, ModelCheckpoint\n",
    "from keras.models import Model\n",
    "from keras.layers import Input, Dense, Dropout\n",
    "from keras import regularizers\n",
    "from keras.optimizers import Adam, RMSprop\n",
    "from keras import backend as K"
   ]
  },
  {
   "cell_type": "code",
   "execution_count": 2,
   "metadata": {
    "scrolled": true
   },
   "outputs": [
    {
     "data": {
      "text/html": [
       "<div>\n",
       "<style scoped>\n",
       "    .dataframe tbody tr th:only-of-type {\n",
       "        vertical-align: middle;\n",
       "    }\n",
       "\n",
       "    .dataframe tbody tr th {\n",
       "        vertical-align: top;\n",
       "    }\n",
       "\n",
       "    .dataframe thead th {\n",
       "        text-align: right;\n",
       "    }\n",
       "</style>\n",
       "<table border=\"1\" class=\"dataframe\">\n",
       "  <thead>\n",
       "    <tr style=\"text-align: right;\">\n",
       "      <th></th>\n",
       "      <th>user_id</th>\n",
       "      <th>business_id</th>\n",
       "      <th>rating</th>\n",
       "      <th>date</th>\n",
       "    </tr>\n",
       "  </thead>\n",
       "  <tbody>\n",
       "    <tr>\n",
       "      <th>0</th>\n",
       "      <td>keBv05MsMFBd0Hu98vXThQ</td>\n",
       "      <td>JDZ6_yycNQFTpUZzLIKHUg</td>\n",
       "      <td>5.0</td>\n",
       "      <td>2018-11-14 18:05:34</td>\n",
       "    </tr>\n",
       "    <tr>\n",
       "      <th>1</th>\n",
       "      <td>hZ_ElhGO3sQDVvM8ZrQetA</td>\n",
       "      <td>zfyGTLKOZuVY8aRoInyx9Q</td>\n",
       "      <td>4.0</td>\n",
       "      <td>2018-11-14 17:59:07</td>\n",
       "    </tr>\n",
       "    <tr>\n",
       "      <th>2</th>\n",
       "      <td>y5zqSJE-rFihsKmUZRbbRg</td>\n",
       "      <td>evdJO0v9rvVixieNEnaeJg</td>\n",
       "      <td>5.0</td>\n",
       "      <td>2018-11-14 17:57:01</td>\n",
       "    </tr>\n",
       "    <tr>\n",
       "      <th>3</th>\n",
       "      <td>ozUsNrw9QlEtz_JqN5PlMw</td>\n",
       "      <td>u1fa8SE-Rzea_xWbk_B-Zw</td>\n",
       "      <td>3.0</td>\n",
       "      <td>2018-11-14 17:49:52</td>\n",
       "    </tr>\n",
       "    <tr>\n",
       "      <th>4</th>\n",
       "      <td>sHY6JcgWOHLP4vR836Esmw</td>\n",
       "      <td>urSuLlkYXXI5uwtKIxl9ew</td>\n",
       "      <td>5.0</td>\n",
       "      <td>2018-11-14 17:25:32</td>\n",
       "    </tr>\n",
       "  </tbody>\n",
       "</table>\n",
       "</div>"
      ],
      "text/plain": [
       "                  user_id             business_id  rating                 date\n",
       "0  keBv05MsMFBd0Hu98vXThQ  JDZ6_yycNQFTpUZzLIKHUg     5.0  2018-11-14 18:05:34\n",
       "1  hZ_ElhGO3sQDVvM8ZrQetA  zfyGTLKOZuVY8aRoInyx9Q     4.0  2018-11-14 17:59:07\n",
       "2  y5zqSJE-rFihsKmUZRbbRg  evdJO0v9rvVixieNEnaeJg     5.0  2018-11-14 17:57:01\n",
       "3  ozUsNrw9QlEtz_JqN5PlMw  u1fa8SE-Rzea_xWbk_B-Zw     3.0  2018-11-14 17:49:52\n",
       "4  sHY6JcgWOHLP4vR836Esmw  urSuLlkYXXI5uwtKIxl9ew     5.0  2018-11-14 17:25:32"
      ]
     },
     "execution_count": 2,
     "metadata": {},
     "output_type": "execute_result"
    }
   ],
   "source": [
    "dataset = pd.read_csv('dataset.csv').drop(columns='Unnamed: 0')\n",
    "dataset.head()"
   ]
  },
  {
   "cell_type": "code",
   "execution_count": 3,
   "metadata": {
    "scrolled": true
   },
   "outputs": [
    {
     "name": "stdout",
     "output_type": "stream",
     "text": [
      "There are 30750 active users. \n",
      "They add up to a total of 317153 unique ratings. \n",
      "There are 4996 different businesses\n"
     ]
    }
   ],
   "source": [
    "num_users = len(dataset.user_id.unique())\n",
    "num_business = len(dataset.business_id.unique())\n",
    "print('There are {} active users. \\nThey add up to a total of {} unique ratings. \\nThere are {} different businesses'.format(dataset[\"user_id\"].nunique(), dataset.shape[0], dataset[\"business_id\"].nunique()))"
   ]
  },
  {
   "cell_type": "markdown",
   "metadata": {},
   "source": [
    "Here is the average global rating of our dataset: "
   ]
  },
  {
   "cell_type": "code",
   "execution_count": 4,
   "metadata": {},
   "outputs": [
    {
     "name": "stdout",
     "output_type": "stream",
     "text": [
      "Globl mean rating: 3.8\n"
     ]
    }
   ],
   "source": [
    "ratings_mean = dataset.groupby('user_id', as_index=False).mean()\n",
    "average_global_rating = round(ratings_mean['rating'].mean(), 2)\n",
    "print('Globl mean rating:', average_global_rating)"
   ]
  },
  {
   "cell_type": "markdown",
   "metadata": {},
   "source": [
    "### Splitting of the dataset into training, validation and testing set"
   ]
  },
  {
   "cell_type": "markdown",
   "metadata": {},
   "source": [
    "Let us first split our dataset into a training set and a testing set. The testing set will be the last ratings we want to predict, while the training set will be the rest of our data:"
   ]
  },
  {
   "cell_type": "code",
   "execution_count": 5,
   "metadata": {},
   "outputs": [],
   "source": [
    "dataset = dataset.sort_values('date', ascending=False)\n",
    "test_last_ratings = dataset.drop_duplicates(subset='user_id', keep='first')\n",
    "training_df = dataset[~(dataset.index).isin(test_last_ratings.index)]"
   ]
  },
  {
   "cell_type": "markdown",
   "metadata": {},
   "source": [
    "We will now divide our train set into a validation set and a training set:"
   ]
  },
  {
   "cell_type": "code",
   "execution_count": 6,
   "metadata": {},
   "outputs": [],
   "source": [
    "training_df = training_df.sort_values('date', ascending=False)\n",
    "val_df = training_df.drop_duplicates(subset='user_id', keep='first')\n",
    "training_df = training_df[~(training_df.index).isin(val_df.index)]"
   ]
  },
  {
   "cell_type": "markdown",
   "metadata": {},
   "source": [
    "By doing this, we avoid reviews of a particular user all get agglomerated into either the training, validation or testing set. This could create bias in the analysis. For example, if the reviews of user A are only in the training set and none in testing or validation sets. The test loss score (RMSE) will be attributed a 0 for this user. On the other hand, if all reviews are in the test set, then there will be no review for this user during training time. This could cause the RMSE to be higher for this user. In our case, we know that we have at least 5 reviews per users. Hence, separating their last ratings ensure the users both appear in the training, validation and the testing sets. Also, this allows us to have a ratio of size $80-10-10$% between the train, validation and the test. "
   ]
  },
  {
   "cell_type": "code",
   "execution_count": 7,
   "metadata": {},
   "outputs": [
    {
     "name": "stdout",
     "output_type": "stream",
     "text": [
      "Size of the training set: 255653\n",
      "Size of the validation set: 30750\n",
      "Size of the testing set: 30750\n",
      "\n",
      "Ratio train/validation/test: 0.81 / 0.1 / 0.1\n"
     ]
    }
   ],
   "source": [
    "print('Size of the training set:', training_df.shape[0])\n",
    "print('Size of the validation set:', val_df.shape[0])\n",
    "print('Size of the testing set:', test_last_ratings.shape[0])\n",
    "print()\n",
    "print('Ratio train/validation/test:', round(training_df.shape[0]/dataset.shape[0], 2), '/', \\\n",
    "     round(val_df.shape[0]/dataset.shape[0], 2),  '/',\\\n",
    "     round(test_last_ratings.shape[0]/dataset.shape[0], 2))"
   ]
  },
  {
   "cell_type": "markdown",
   "metadata": {},
   "source": [
    "# Let's define some helper functions"
   ]
  },
  {
   "cell_type": "markdown",
   "metadata": {},
   "source": [
    "Let us define the functions we will use in this notebook to build our model and process our data:"
   ]
  },
  {
   "cell_type": "code",
   "execution_count": 8,
   "metadata": {},
   "outputs": [],
   "source": [
    "# Plot the training curves of our deep learning model\n",
    "\n",
    "def training_curves(history_model):\n",
    "    plt.plot(history_model.history['masked_rmse_clip'])\n",
    "    plt.plot(history_model.history['val_masked_rmse_clip'])\n",
    "    plt.title('model masked_rmse_clip')\n",
    "    plt.ylabel('masked_rmse_clip')\n",
    "    plt.xlabel('epoch')\n",
    "    plt.legend(['training', 'validation'], loc='upper left')\n",
    "    plt.grid()\n",
    "    plt.show()\n",
    "    # Training curve for the loss\n",
    "    plt.plot(history_model.history['loss'])\n",
    "    plt.plot(history_model.history['val_loss'])\n",
    "    plt.title('model loss')\n",
    "    plt.ylabel('loss')\n",
    "    plt.xlabel('epoch')\n",
    "    plt.legend(['training', 'validation'], loc='upper left')\n",
    "    plt.grid()\n",
    "    plt.show()"
   ]
  },
  {
   "cell_type": "markdown",
   "metadata": {},
   "source": [
    "* ### Description of the processing of our different sets"
   ]
  },
  {
   "cell_type": "markdown",
   "metadata": {},
   "source": [
    "We are going to feed our AutoEncoder models with users-items matrices. They will be constructed as follows: \n",
    "* If the user have not seen an item, its rating will be set to 0 (or the global average rating of the total dataset)\n",
    "* Otherwise, we just set the rating given bu the user. "
   ]
  },
  {
   "cell_type": "code",
   "execution_count": 9,
   "metadata": {},
   "outputs": [],
   "source": [
    "# Preprocessing the data for our Neural Network model\n",
    "\n",
    "def dataPreprocessing(df, average = False):\n",
    "    # Defining the list of distinct users and distinct businesses in our dataset\n",
    "    unique_users = list(dataset.user_id.unique())\n",
    "    unique_business = list(dataset.business_id.unique())\n",
    "    \n",
    "    # Initializing the users x items matrix\n",
    "    matrix = np.zeros((num_users, num_business))\n",
    "    matrix[:] = np.nan\n",
    "    pivot = df.pivot_table(index='user_id', columns='business_id', values='rating')\n",
    "    values = pivot.values\n",
    "    \n",
    "    # Filling the rating matrix with the data of df\n",
    "    for i in range(len(pivot.columns)):\n",
    "        k = unique_business.index(pivot.columns[i])\n",
    "        matrix[:, k] = values[:, i]\n",
    "    \n",
    "    # Replacing the nan values by 0 or the average global rating \n",
    "    if average:\n",
    "        matrix = np.nan_to_num(matrix, nan=average_global_rating)    \n",
    "    else:\n",
    "        matrix = np.nan_to_num(matrix, nan=0)\n",
    "    return matrix"
   ]
  },
  {
   "cell_type": "markdown",
   "metadata": {},
   "source": [
    "* ### Metrics used to train our models"
   ]
  },
  {
   "cell_type": "markdown",
   "metadata": {},
   "source": [
    "Let us now define the loss function we are going to use to train our models. Since it does not make sense to predict zero in the user rating vector, we are going to minimize the Masked Mean Squared Error(MMSE). \n",
    "$$ MMSE = \\frac{m_i * (r_i - y_i)^2}{\\sum_{i=0}^n m_i} $$\n",
    "where $r_i$ is the actual rating and $y_i$ is the reconstructed rating. $m_i$ is a mask function where $m_i =1$ if $r_i$ is non-zero else $m_i =0$."
   ]
  },
  {
   "cell_type": "code",
   "execution_count": 10,
   "metadata": {},
   "outputs": [],
   "source": [
    "def masked_mse(y_true, y_pred):\n",
    "    # masked function\n",
    "    mask_true = K.cast(K.not_equal(y_true, 0), K.floatx())\n",
    "    # masked squared error\n",
    "    masked_squared_error = K.square(mask_true * (y_true - y_pred))\n",
    "    # average the error\n",
    "    masked_mse = K.sum(masked_squared_error, axis=-1) / K.maximum(K.sum(mask_true, axis=-1), 1)\n",
    "    return masked_mse"
   ]
  },
  {
   "cell_type": "markdown",
   "metadata": {},
   "source": [
    "The performance of our models will be measured by the Masked Root Mean Squared Error (MRMSE). Similar to MMSE, we only take into consideration the error where the rating is not zero in the test set. Also, we clipped the predicted rating with 1 as minimum and 5 as maximum so that the ratings make sense and are comparable to their ground truth."
   ]
  },
  {
   "cell_type": "code",
   "execution_count": 11,
   "metadata": {},
   "outputs": [],
   "source": [
    "def masked_rmse_clip(y_true, y_pred):\n",
    "    # masked function\n",
    "    mask_true = K.cast(K.not_equal(y_true, 0), K.floatx())\n",
    "    # clipping the rating\n",
    "    y_pred = K.clip(y_pred, 1, 5)\n",
    "    # masked squared error\n",
    "    masked_squared_error = K.square(mask_true * (y_true - y_pred))\n",
    "    # square root\n",
    "    masked_mse = K.sqrt(K.sum(masked_squared_error, axis=-1) / K.maximum(K.sum(mask_true, axis=-1), 1))\n",
    "    return masked_mse"
   ]
  },
  {
   "cell_type": "markdown",
   "metadata": {},
   "source": [
    "# First model: a simple AutoEncoder"
   ]
  },
  {
   "cell_type": "markdown",
   "metadata": {},
   "source": [
    "## Implementation"
   ]
  },
  {
   "cell_type": "markdown",
   "metadata": {},
   "source": [
    "The model we are first going to implement is a user-based AutoEncoder model for recommendations, which take the partially observed ratings vector of a user, project it into a low dimensional latent space and then reconstruct it back to the output space to predict the missing ratings. The library used to implement the models is Keras for simplicity."
   ]
  },
  {
   "cell_type": "code",
   "execution_count": 12,
   "metadata": {},
   "outputs": [],
   "source": [
    "def AE_model(X, reg, first_activation, last_activation):\n",
    "    '''\n",
    "    Parameters: \n",
    "        X: #_user X #_item matrix\n",
    "        reg: L2 regularization parameter\n",
    "        first_activation: activation function for first dense layer\n",
    "        last_activation: activation function for second dense layer  \n",
    "    '''\n",
    "    input_layer = x = Input(shape=(X.shape[1],), name='UserRating')\n",
    "    x = Dense(500, activation=first_activation, name='LatentSpace', kernel_regularizer=regularizers.l2(reg))(x)\n",
    "    output_layer = Dense(X.shape[1], activation=last_activation, name='UserScorePred', \\\n",
    "                         kernel_regularizer=regularizers.l2(reg))(x)\n",
    "    model = Model(input_layer, output_layer)\n",
    "\n",
    "    return model"
   ]
  },
  {
   "cell_type": "markdown",
   "metadata": {},
   "source": [
    "* ### First training: training set filled with 0 when the item is not rated."
   ]
  },
  {
   "cell_type": "code",
   "execution_count": 13,
   "metadata": {},
   "outputs": [],
   "source": [
    "# Processing of the training, validation and testing set to the right format for our model\n",
    "\n",
    "X_train = dataPreprocessing(training_df)\n",
    "X_val = dataPreprocessing(val_df)\n",
    "y_test = dataPreprocessing(test_last_ratings)"
   ]
  },
  {
   "cell_type": "code",
   "execution_count": 14,
   "metadata": {},
   "outputs": [
    {
     "name": "stdout",
     "output_type": "stream",
     "text": [
      "Model: \"model_1\"\n",
      "_________________________________________________________________\n",
      "Layer (type)                 Output Shape              Param #   \n",
      "=================================================================\n",
      "UserRating (InputLayer)      (None, 4996)              0         \n",
      "_________________________________________________________________\n",
      "LatentSpace (Dense)          (None, 500)               2498500   \n",
      "_________________________________________________________________\n",
      "UserScorePred (Dense)        (None, 4996)              2502996   \n",
      "=================================================================\n",
      "Total params: 5,001,496\n",
      "Trainable params: 5,001,496\n",
      "Non-trainable params: 0\n",
      "_________________________________________________________________\n"
     ]
    }
   ],
   "source": [
    "# Build model\n",
    "AE = AE_model(X_train, 0.0005, 'elu', 'elu')\n",
    "AE.compile(optimizer = Adam(lr=0.0001), loss=masked_mse, metrics=[masked_rmse_clip])\n",
    "AE.summary()"
   ]
  },
  {
   "cell_type": "code",
   "execution_count": null,
   "metadata": {
    "scrolled": false
   },
   "outputs": [],
   "source": [
    "es = EarlyStopping(monitor='val_loss', min_delta=0, patience=2, verbose=0, mode='auto')\n",
    "mc = ModelCheckpoint(filepath='AE.h5', monitor='val_loss', save_best_only=True)\n",
    "\n",
    "hist_AE = AE.fit(x=X_train, y=X_train, \\\n",
    "                  epochs=100, \\\n",
    "                  batch_size=256, \\\n",
    "                  verbose = 1, validation_data=(X_train, X_val), callbacks=[es, mc])"
   ]
  },
  {
   "cell_type": "markdown",
   "metadata": {},
   "source": [
    "We cleared the output of the training so that our notebook is easier to read. \n",
    "<br>The model performed **91 epochs and the running time was approximately 1,410.5s** (i.e. 23.5min - each epochs lasting around 15.5s in average).\n",
    "<br> Here are the training curves obtained:"
   ]
  },
  {
   "cell_type": "code",
   "execution_count": 16,
   "metadata": {},
   "outputs": [
    {
     "data": {
      "image/png": "[encoded data removed]",
      "text/plain": [
       "<Figure size 432x288 with 1 Axes>"
      ]
     },
     "metadata": {
      "needs_background": "light"
     },
     "output_type": "display_data"
    },
    {
     "data": {
      "image/png": "[encoded data removed]",
      "text/plain": [
       "<Figure size 432x288 with 1 Axes>"
      ]
     },
     "metadata": {
      "needs_background": "light"
     },
     "output_type": "display_data"
    }
   ],
   "source": [
    "training_curves(hist_AE)"
   ]
  },
  {
   "cell_type": "code",
   "execution_count": 17,
   "metadata": {},
   "outputs": [
    {
     "name": "stdout",
     "output_type": "stream",
     "text": [
      "30750/30750 [==============================] - 12s 378us/step\n",
      "Loss on the test set: 3.5035558414459227\n",
      "masked_rmse_clip on the test set: 1.3732531070709229\n"
     ]
    }
   ],
   "source": [
    "test_result = AE.evaluate(X_train, y_test)\n",
    "print('Loss on the test set:', test_result[0])\n",
    "print('masked_rmse_clip on the test set:', test_result[1])"
   ]
  },
  {
   "cell_type": "markdown",
   "metadata": {},
   "source": [
    "For this simple model, we can observe that **we get a lower RMSE than our baseline model i.e. more accurate predictions**. Let us see how the results of other experiments."
   ]
  },
  {
   "cell_type": "markdown",
   "metadata": {},
   "source": [
    "* ### Second training: training set filled with the average global rating when the item is not rated."
   ]
  },
  {
   "cell_type": "markdown",
   "metadata": {},
   "source": [
    "In this section, we will to train our AutoEncoder model with a modified training set, filled with the average global rating instead of 0 when the item is not rated. \n",
    "<br>This may allow a better reconstruction of the rating vector in the end and make the training easier - as the rating vector will not be reconstructed from scratch. Also, in order to compute our loss values, we only consider the ratings (different from 0) of the target vector (that we can find in the validation and testing set only), hence this will affect our metrics only if it deteriorates or improves the rating vector output."
   ]
  },
  {
   "cell_type": "code",
   "execution_count": 18,
   "metadata": {},
   "outputs": [],
   "source": [
    "X_train_average = dataPreprocessing(training_df, average=True)"
   ]
  },
  {
   "cell_type": "code",
   "execution_count": 19,
   "metadata": {},
   "outputs": [
    {
     "name": "stdout",
     "output_type": "stream",
     "text": [
      "Model: \"model_2\"\n",
      "_________________________________________________________________\n",
      "Layer (type)                 Output Shape              Param #   \n",
      "=================================================================\n",
      "UserRating (InputLayer)      (None, 4996)              0         \n",
      "_________________________________________________________________\n",
      "LatentSpace (Dense)          (None, 500)               2498500   \n",
      "_________________________________________________________________\n",
      "UserScorePred (Dense)        (None, 4996)              2502996   \n",
      "=================================================================\n",
      "Total params: 5,001,496\n",
      "Trainable params: 5,001,496\n",
      "Non-trainable params: 0\n",
      "_________________________________________________________________\n"
     ]
    }
   ],
   "source": [
    "# Build model\n",
    "AE_average = AE_model(X_train_average, 0.0005, 'elu', 'elu')\n",
    "AE_average.compile(optimizer = Adam(lr=0.0001), loss=masked_mse, metrics=[masked_rmse_clip])\n",
    "AE_average.summary()"
   ]
  },
  {
   "cell_type": "code",
   "execution_count": null,
   "metadata": {},
   "outputs": [],
   "source": [
    "mc = ModelCheckpoint(filepath='AE_average.h5', monitor='val_loss', save_best_only=True)\n",
    "\n",
    "hist_AE_average = AE_average.fit(x=X_train_average, y=X_train, \\\n",
    "                  epochs=100, \\\n",
    "                  batch_size=256, \\\n",
    "                  verbose = 1, validation_data=(X_train_average, X_val), callbacks=[es, mc])"
   ]
  },
  {
   "cell_type": "markdown",
   "metadata": {},
   "source": [
    "Again, we cleared the output of the training so that our notebook is easier to read. \n",
    "<br>The model performed **38 epochs and the running time was approximately 608s** (each epochs lasting around 16s in average).\n",
    "<br> Here are the training curves obtained:"
   ]
  },
  {
   "cell_type": "code",
   "execution_count": 21,
   "metadata": {},
   "outputs": [
    {
     "data": {
      "image/png": "[encoded data removed]",
      "text/plain": [
       "<Figure size 432x288 with 1 Axes>"
      ]
     },
     "metadata": {
      "needs_background": "light"
     },
     "output_type": "display_data"
    },
    {
     "data": {
      "image/png": "[encoded data removed]",
      "text/plain": [
       "<Figure size 432x288 with 1 Axes>"
      ]
     },
     "metadata": {
      "needs_background": "light"
     },
     "output_type": "display_data"
    }
   ],
   "source": [
    "# Training curve for the masked_rmse_clip\n",
    "training_curves(hist_AE_average)"
   ]
  },
  {
   "cell_type": "code",
   "execution_count": 22,
   "metadata": {},
   "outputs": [
    {
     "name": "stdout",
     "output_type": "stream",
     "text": [
      "30750/30750 [==============================] - 13s 416us/step\n",
      "Loss on the test set: 2.0012320515237203\n",
      "masked_rmse_clip on the test set: 0.9613847732543945\n"
     ]
    }
   ],
   "source": [
    "test_result = AE_average.evaluate(X_train_average, y_test)\n",
    "print('Loss on the test set:', test_result[0])\n",
    "print('masked_rmse_clip on the test set:', test_result[1])"
   ]
  },
  {
   "cell_type": "markdown",
   "metadata": {},
   "source": [
    "This model performs **significantely better than the previous model**. The results are much more accurate."
   ]
  },
  {
   "cell_type": "markdown",
   "metadata": {},
   "source": [
    "## Conclusion"
   ]
  },
  {
   "cell_type": "markdown",
   "metadata": {},
   "source": [
    "In this section, we trained a simple AutoEncoder with two datasets constructed differently. In the end, we obtained the best results with the training set where ratings of items not rated by a user were filled with the average global rating of the dataset. **The model converged much faster (training time reduced by a factor 2), and the results were more accurate as well.**"
   ]
  },
  {
   "cell_type": "markdown",
   "metadata": {},
   "source": [
    "---"
   ]
  },
  {
   "cell_type": "markdown",
   "metadata": {},
   "source": [
    "# Second model: a Deep AutoEncoder"
   ]
  },
  {
   "cell_type": "markdown",
   "metadata": {},
   "source": [
    "## Implementation"
   ]
  },
  {
   "cell_type": "markdown",
   "metadata": {},
   "source": [
    "The model we are now going to implement is a user-based Deep AutoEncoder model for recommendations. As previously, it will take the partially observed ratings vector of a user, project it into a low dimensional latent space and then reconstruct it back to the output space to predict the missing ratings. However, this time we are going to increase the number of layers of our model so that it is capable of understanding and treating the complexity of our data better."
   ]
  },
  {
   "cell_type": "code",
   "execution_count": 23,
   "metadata": {},
   "outputs": [],
   "source": [
    "def Deep_AE_model(X, layers, activation, last_activation, dropout, regularizer_encode, regularizer_decode, side_infor_size=0):\n",
    "    '''\n",
    "    Parameters: \n",
    "        X: #_user X #_item matrix\n",
    "        layers: List, each element is the number of neuron for a layer\n",
    "        reg: L2 regularization parameter\n",
    "        activation: activation function for all dense layer except the last\n",
    "        last_activation: activation function for the last dense layer\n",
    "        dropout: dropout rate\n",
    "        regularizer_encode: regularizer for encoder\n",
    "        regularizer_decode: regularizer for decoder\n",
    "        side_infor_size: size of the one hot encoding side information\n",
    "    '''\n",
    "\n",
    "    # Input\n",
    "    input_layer = x = Input(shape=(X.shape[1],), name='UserRating')\n",
    "    \n",
    "    # Encoder\n",
    "    k = int(len(layers)/2)\n",
    "    i = 0\n",
    "    for l in layers[:k]:\n",
    "        x = Dense(l, activation=activation, name='Encoder_Layer{}'.format(i), \\\n",
    "                  kernel_regularizer=regularizers.l2(regularizer_encode))(x)\n",
    "        i = i+1\n",
    "      \n",
    "    # Latent Space\n",
    "    x = Dense(layers[k], activation=activation, name='LatentSpace', \\\n",
    "              kernel_regularizer=regularizers.l2(regularizer_encode))(x)\n",
    "    \n",
    "    # Dropout\n",
    "    x = Dropout(rate = dropout)(x)\n",
    "    \n",
    "    # Decoder\n",
    "    for l in layers[k+1:]:\n",
    "        i = i-1\n",
    "        x = Dense(l, activation=activation, name='Decoder_Layer{}'.format(i), \\\n",
    "                  kernel_regularizer=regularizers.l2(regularizer_decode))(x)\n",
    "      \n",
    "    # Output\n",
    "    output_layer = Dense(X.shape[1]-side_infor_size, activation=last_activation, \\\n",
    "                         name='UserScorePred', kernel_regularizer=regularizers.l2(regularizer_decode))(x)\n",
    "\n",
    "    # this model maps an input to its reconstruction\n",
    "    model = Model(input_layer, output_layer)\n",
    "\n",
    "    return model"
   ]
  },
  {
   "cell_type": "markdown",
   "metadata": {},
   "source": [
    "* ### First training: training set filled with 0 when the item is not rated."
   ]
  },
  {
   "cell_type": "code",
   "execution_count": 24,
   "metadata": {},
   "outputs": [
    {
     "name": "stdout",
     "output_type": "stream",
     "text": [
      "WARNING:tensorflow:Large dropout rate: 0.8 (>0.5). In TensorFlow 2.x, dropout() uses dropout rate instead of keep_prob. Please ensure that this is intended.\n",
      "Model: \"model_3\"\n",
      "_________________________________________________________________\n",
      "Layer (type)                 Output Shape              Param #   \n",
      "=================================================================\n",
      "UserRating (InputLayer)      (None, 4996)              0         \n",
      "_________________________________________________________________\n",
      "EncLayer0 (Dense)            (None, 256)               1279232   \n",
      "_________________________________________________________________\n",
      "LatentSpace (Dense)          (None, 512)               131584    \n",
      "_________________________________________________________________\n",
      "dropout_1 (Dropout)          (None, 512)               0         \n",
      "_________________________________________________________________\n",
      "DecLayer0 (Dense)            (None, 256)               131328    \n",
      "_________________________________________________________________\n",
      "UserScorePred (Dense)        (None, 4996)              1283972   \n",
      "=================================================================\n",
      "Total params: 2,826,116\n",
      "Trainable params: 2,826,116\n",
      "Non-trainable params: 0\n",
      "_________________________________________________________________\n"
     ]
    }
   ],
   "source": [
    "layers = [256, 512, 256]\n",
    "dropout = 0.8\n",
    "activation = 'elu'\n",
    "last_activation = 'elu'\n",
    "regularizer_encode = 0.001\n",
    "regularizer_decode = 0.001\n",
    "\n",
    "# Build model\n",
    "Deep_AE = Deep_AE_model(X_train, layers, activation, last_activation, dropout, \\\n",
    "                        regularizer_encode, regularizer_decode)\n",
    "Deep_AE.compile(optimizer = Adam(lr=0.0001), loss=masked_mse, metrics=[masked_rmse_clip]) \n",
    "Deep_AE.summary()"
   ]
  },
  {
   "cell_type": "code",
   "execution_count": null,
   "metadata": {},
   "outputs": [],
   "source": [
    "mc = ModelCheckpoint(filepath='Deep_AE.h5', monitor='val_loss', save_best_only=True)\n",
    "\n",
    "hist_Deep_AE = Deep_AE.fit(x=X_train, y=X_train, \\\n",
    "                    epochs=100, \\\n",
    "                    batch_size=256, \\\n",
    "                    verbose=1, validation_data = (X_train, X_val), callbacks=[es, mc])"
   ]
  },
  {
   "cell_type": "markdown",
   "metadata": {},
   "source": [
    "The model performed **63 epochs and the running time was approximately 882** (each epochs lasting around 14s in average).\n",
    "<br> Here are the training curves obtained:"
   ]
  },
  {
   "cell_type": "code",
   "execution_count": 26,
   "metadata": {},
   "outputs": [
    {
     "data": {
      "image/png": "[encoded data removed]",
      "text/plain": [
       "<Figure size 432x288 with 1 Axes>"
      ]
     },
     "metadata": {
      "needs_background": "light"
     },
     "output_type": "display_data"
    },
    {
     "data": {
      "image/png": "[encoded data removed]",
      "text/plain": [
       "<Figure size 432x288 with 1 Axes>"
      ]
     },
     "metadata": {
      "needs_background": "light"
     },
     "output_type": "display_data"
    }
   ],
   "source": [
    "# Training curve for the masked_rmse_clip\n",
    "training_curves(hist_Deep_AE)"
   ]
  },
  {
   "cell_type": "code",
   "execution_count": 27,
   "metadata": {
    "scrolled": true
   },
   "outputs": [
    {
     "name": "stdout",
     "output_type": "stream",
     "text": [
      "30750/30750 [==============================] - 11s 345us/step\n",
      "Loss on the test set: 1.7642636760386026\n",
      "masked_rmse_clip on the test set: 0.9755818843841553\n"
     ]
    }
   ],
   "source": [
    "test_result = Deep_AE.evaluate(X_train, y_test)\n",
    "print('Loss on the test set:', test_result[0])\n",
    "print('masked_rmse_clip on the test set:', test_result[1])"
   ]
  },
  {
   "cell_type": "markdown",
   "metadata": {},
   "source": [
    "Our Deep AutoEncoder model is able to get as good results as our previous best model, but with a training time a bit longer. However, we can observe that while the RMSE remain similar, the loss value is slightly better. We can thus deduce that this model is more accurate overall since the MSE is smaller."
   ]
  },
  {
   "cell_type": "markdown",
   "metadata": {},
   "source": [
    "* ### Second training: training set filled with the average global rating when the item is not rated."
   ]
  },
  {
   "cell_type": "markdown",
   "metadata": {},
   "source": [
    "We are now going to conduct the same experiment than previously, with the other training set we built."
   ]
  },
  {
   "cell_type": "code",
   "execution_count": 28,
   "metadata": {},
   "outputs": [
    {
     "name": "stdout",
     "output_type": "stream",
     "text": [
      "WARNING:tensorflow:Large dropout rate: 0.8 (>0.5). In TensorFlow 2.x, dropout() uses dropout rate instead of keep_prob. Please ensure that this is intended.\n",
      "Model: \"model_4\"\n",
      "_________________________________________________________________\n",
      "Layer (type)                 Output Shape              Param #   \n",
      "=================================================================\n",
      "UserRating (InputLayer)      (None, 4996)              0         \n",
      "_________________________________________________________________\n",
      "EncLayer0 (Dense)            (None, 256)               1279232   \n",
      "_________________________________________________________________\n",
      "LatentSpace (Dense)          (None, 512)               131584    \n",
      "_________________________________________________________________\n",
      "dropout_2 (Dropout)          (None, 512)               0         \n",
      "_________________________________________________________________\n",
      "DecLayer0 (Dense)            (None, 256)               131328    \n",
      "_________________________________________________________________\n",
      "UserScorePred (Dense)        (None, 4996)              1283972   \n",
      "=================================================================\n",
      "Total params: 2,826,116\n",
      "Trainable params: 2,826,116\n",
      "Non-trainable params: 0\n",
      "_________________________________________________________________\n"
     ]
    }
   ],
   "source": [
    "layers = [256, 512, 256]\n",
    "dropout = 0.8\n",
    "activation = 'elu'\n",
    "last_activation = 'elu'\n",
    "regularizer_encode = 0.001\n",
    "regularizer_decode = 0.001\n",
    "\n",
    "# Build model\n",
    "Deep_AE_2 = Deep_AE_model(X_train_average, layers, activation, last_activation, dropout, \\\n",
    "                        regularizer_encode, regularizer_decode)\n",
    "Deep_AE_2.compile(optimizer = Adam(lr=0.0001), loss=masked_mse, metrics=[masked_rmse_clip]) \n",
    "Deep_AE_2.summary()"
   ]
  },
  {
   "cell_type": "code",
   "execution_count": null,
   "metadata": {
    "scrolled": false
   },
   "outputs": [],
   "source": [
    "mc = ModelCheckpoint(filepath='Deep_AE_average.h5', monitor='val_loss', save_best_only=True)\n",
    "\n",
    "hist_Deep_AE_2 = Deep_AE_2.fit(x=X_train_average, y=X_train, \\\n",
    "                    epochs=100, \\\n",
    "                    batch_size=256, \\\n",
    "                    verbose=1, validation_data = (X_train_average, X_val), callbacks=[es, mc])"
   ]
  },
  {
   "cell_type": "markdown",
   "metadata": {},
   "source": [
    "The model performed **97 epochs and the running time was approximately 1,358s** (each epochs lasting around 14s in average).\n",
    "<br> Here are the training curves obtained:"
   ]
  },
  {
   "cell_type": "code",
   "execution_count": 30,
   "metadata": {},
   "outputs": [
    {
     "data": {
      "image/png": "[encoded data removed]",
      "text/plain": [
       "<Figure size 432x288 with 1 Axes>"
      ]
     },
     "metadata": {
      "needs_background": "light"
     },
     "output_type": "display_data"
    },
    {
     "data": {
      "image/png": "[encoded data removed]",
      "text/plain": [
       "<Figure size 432x288 with 1 Axes>"
      ]
     },
     "metadata": {
      "needs_background": "light"
     },
     "output_type": "display_data"
    }
   ],
   "source": [
    "# Training curve for the masked_rmse_clip\n",
    "training_curves(hist_Deep_AE_2)"
   ]
  },
  {
   "cell_type": "code",
   "execution_count": 31,
   "metadata": {
    "scrolled": true
   },
   "outputs": [
    {
     "name": "stdout",
     "output_type": "stream",
     "text": [
      "30750/30750 [==============================] - 10s 336us/step\n",
      "Loss on the test set: 1.6665033574840886\n",
      "masked_rmse_clip on the test set: 0.9731160998344421\n"
     ]
    }
   ],
   "source": [
    "test_result = Deep_AE_2.evaluate(X_train_average, y_test)\n",
    "print('Loss on the test set:', test_result[0])\n",
    "print('masked_rmse_clip on the test set:', test_result[1])"
   ]
  },
  {
   "cell_type": "markdown",
   "metadata": {},
   "source": [
    "The results with this dataset is not significantly better than the results of our previous experiment. **Overall, the performances are even less interesting since we obtain almost similar MSE and RMSE than previously but with a training time roughly 2 times superior.**"
   ]
  },
  {
   "cell_type": "markdown",
   "metadata": {},
   "source": [
    "## Conclusion"
   ]
  },
  {
   "cell_type": "markdown",
   "metadata": {},
   "source": [
    "We trained a Deep AutoEncoder with two datasets constructed differently. In the end, we obtained similar results with different initial inputs (different approach dealing with missing values), while the simple encoder was more sensitive to changes in the input. **Overall, the first experiment of the deep encoder converged faster (the training time was two times faster than the second one), and the evaluation metrics (MSE and RMSE) gave similar results.**"
   ]
  },
  {
   "cell_type": "markdown",
   "metadata": {},
   "source": [
    "# General conclusion"
   ]
  },
  {
   "cell_type": "markdown",
   "metadata": {},
   "source": [
    "In this notebook, we covered a simple AutoEncoder and a Deep AutoEncoder - much complex. We trained them using two different training sets. In the end, we are able to obtain quite similar results for the two models.\n",
    "<br>The two first experiments show that **the simple AutoEncoder performs significantly better with a dense matrix: the training time is divided by 2 and the training error is significantly reduced as well**. \n",
    "<br>Regarding the two last experiments, we can conclude that **the Deep AutoEncoder is a more robust model that can handle sparse matrices very well. It can also deliver good results with difference in the input training set. The training time is slightly higher than the simple encoder, although the first AutoEncoder can achieve the same performance when trained with a dense matrix.** "
   ]
  }
 ],
 "metadata": {
  "kernelspec": {
   "display_name": "Python 3",
   "language": "python",
   "name": "python3"
  },
  "language_info": {
   "codemirror_mode": {
    "name": "ipython",
    "version": 3
   },
   "file_extension": ".py",
   "mimetype": "text/x-python",
   "name": "python",
   "nbconvert_exporter": "python",
   "pygments_lexer": "ipython3",
   "version": "3.7.5"
  }
 },
 "nbformat": 4,
 "nbformat_minor": 2
}
